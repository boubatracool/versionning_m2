{
 "cells": [
  {
   "cell_type": "code",
   "execution_count": 2,
   "metadata": {
    "ExecuteTime": {
     "end_time": "2025-03-25T20:11:38.782023Z",
     "start_time": "2025-03-25T20:11:38.774128Z"
    }
   },
   "outputs": [],
   "source": [
    "import os\n",
    "import pandas as pd"
   ]
  },
  {
   "cell_type": "code",
   "execution_count": 3,
   "metadata": {
    "ExecuteTime": {
     "end_time": "2025-03-25T20:11:38.798730Z",
     "start_time": "2025-03-25T20:11:38.792909Z"
    }
   },
   "outputs": [],
   "source": [
    "def upload_csv(file_path, dest_folder=\"data\"):\n",
    "    \"\"\"Déplace le fichier CSV du Titanic dans le dossier data.\"\"\"\n",
    "    os.makedirs(dest_folder, exist_ok=True)\n",
    "    destination = os.path.join(dest_folder, os.path.basename(file_path))\n",
    "    os.rename(file_path, destination)\n",
    "    print(f\"Fichier déplacé vers {destination}\")\n",
    "    return destination"
   ]
  },
  {
   "cell_type": "code",
   "execution_count": 4,
   "metadata": {
    "ExecuteTime": {
     "end_time": "2025-03-25T20:11:38.811995Z",
     "start_time": "2025-03-25T20:11:38.809730Z"
    }
   },
   "outputs": [
    {
     "name": "stdout",
     "output_type": "stream",
     "text": [
      "Fichier déplacé vers data/Titanic-Dataset.csv\n"
     ]
    },
    {
     "data": {
      "text/plain": [
       "'data/Titanic-Dataset.csv'"
      ]
     },
     "execution_count": 4,
     "metadata": {},
     "output_type": "execute_result"
    }
   ],
   "source": [
    "upload_csv(\"data/Titanic-Dataset.csv\")"
   ]
  },
  {
   "cell_type": "code",
   "execution_count": 5,
   "metadata": {
    "ExecuteTime": {
     "end_time": "2025-03-25T20:11:38.826193Z",
     "start_time": "2025-03-25T20:11:38.816555Z"
    }
   },
   "outputs": [
    {
     "name": "stdout",
     "output_type": "stream",
     "text": [
      "✅ Données sauvegardées avec succès !\n"
     ]
    }
   ],
   "source": [
    "import pandas as pd\n",
    "from sklearn.model_selection import train_test_split\n",
    "from sklearn.preprocessing import LabelEncoder\n",
    "\n",
    "def preprocess_data(csv_path):\n",
    "    \"\"\"Charge et pré-traite les données du Titanic.\"\"\"\n",
    "    df = pd.read_csv(csv_path)\n",
    "    df.drop([\"Name\", \"Ticket\", \"Cabin\"], axis=1, inplace=True)\n",
    "\n",
    "    \n",
    "    df[\"Age\"] = df[\"Age\"].fillna(df[\"Age\"].median())\n",
    "    df[\"Embarked\"] = df[\"Embarked\"].fillna(df[\"Embarked\"].mode()[0])\n",
    "\n",
    "    label_enc = LabelEncoder()\n",
    "    df[\"Sex\"] = label_enc.fit_transform(df[\"Sex\"])\n",
    "    df[\"Embarked\"] = label_enc.fit_transform(df[\"Embarked\"])\n",
    "\n",
    "    X = df.drop(\"Survived\", axis=1)\n",
    "    y = df[\"Survived\"]\n",
    "\n",
    "    X_train, X_test, y_train, y_test = train_test_split(X, y, test_size=0.2, random_state=42)\n",
    "\n",
    "    # ✅ Sauvegarde des données\n",
    "    X_train.to_csv(\"X_train.csv\", index=False)\n",
    "    X_test.to_csv(\"X_test.csv\", index=False)\n",
    "    y_train.to_csv(\"y_train.csv\", index=False)\n",
    "    y_test.to_csv(\"y_test.csv\", index=False)\n",
    "\n",
    "    print(\"✅ Données sauvegardées avec succès !\")\n",
    "\n",
    "# Exécuter le prétraitement\n",
    "preprocess_data(\"data/Titanic-Dataset.csv\")\n"
   ]
  },
  {
   "cell_type": "code",
   "execution_count": 25,
   "metadata": {
    "ExecuteTime": {
     "end_time": "2025-03-25T20:11:38.914370Z",
     "start_time": "2025-03-25T20:11:38.893614Z"
    }
   },
   "outputs": [
    {
     "name": "stdout",
     "output_type": "stream",
     "text": [
      "✅ Données sauvegardées avec succès !\n"
     ]
    },
    {
     "ename": "TypeError",
     "evalue": "cannot unpack non-iterable NoneType object",
     "output_type": "error",
     "traceback": [
      "\u001b[31m---------------------------------------------------------------------------\u001b[39m",
      "\u001b[31mTypeError\u001b[39m                                 Traceback (most recent call last)",
      "\u001b[36mCell\u001b[39m\u001b[36m \u001b[39m\u001b[32mIn[25]\u001b[39m\u001b[32m, line 1\u001b[39m\n\u001b[32m----> \u001b[39m\u001b[32m1\u001b[39m X_train, X_test, y_train, y_test = preprocess_data(\u001b[33m\"\u001b[39m\u001b[33mdata/Titanic-Dataset.csv\u001b[39m\u001b[33m\"\u001b[39m)\n",
      "\u001b[31mTypeError\u001b[39m: cannot unpack non-iterable NoneType object"
     ]
    }
   ],
   "source": [
    "X_train, X_test, y_train, y_test = preprocess_data(\"data/Titanic-Dataset.csv\")"
   ]
  },
  {
   "cell_type": "code",
   "execution_count": null,
   "metadata": {},
   "outputs": [],
   "source": []
  }
 ],
 "metadata": {
  "kernelspec": {
   "display_name": ".venv",
   "language": "python",
   "name": "python3"
  },
  "language_info": {
   "codemirror_mode": {
    "name": "ipython",
    "version": 3
   },
   "file_extension": ".py",
   "mimetype": "text/x-python",
   "name": "python",
   "nbconvert_exporter": "python",
   "pygments_lexer": "ipython3",
   "version": "3.12.4"
  }
 },
 "nbformat": 4,
 "nbformat_minor": 2
}
