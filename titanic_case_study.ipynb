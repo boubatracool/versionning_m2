{
 "cells": [
  {
   "cell_type": "code",
   "id": "initial_id",
   "metadata": {
    "collapsed": true,
    "ExecuteTime": {
     "end_time": "2025-03-25T23:49:40.612694Z",
     "start_time": "2025-03-25T23:49:40.609923Z"
    }
   },
   "source": [
    "import pandas as pd\n",
    "from sklearn.neighbors import KNeighborsClassifier\n",
    "import joblib"
   ],
   "outputs": [],
   "execution_count": 134
  },
  {
   "metadata": {
    "ExecuteTime": {
     "end_time": "2025-03-25T23:49:40.631064Z",
     "start_time": "2025-03-25T23:49:40.623560Z"
    }
   },
   "cell_type": "code",
   "source": [
    "titanic = pd.read_csv('data/Titanic-Dataset.csv')\n",
    "titanic.columns = titanic.columns.str.lower()\n",
    "titanic = titanic[['survived', 'pclass', 'sex', 'age']]\n",
    "titanic.dropna(axis=0, inplace=True)\n",
    "titanic['sex'] = titanic['sex'].replace(['male', 'female'], [0, 1])\n",
    "titanic.head()"
   ],
   "id": "b3a0a72388709bee",
   "outputs": [
    {
     "data": {
      "text/plain": [
       "   survived  pclass sex   age\n",
       "0         0       3   0  22.0\n",
       "1         1       1   1  38.0\n",
       "2         1       3   1  26.0\n",
       "3         1       1   1  35.0\n",
       "4         0       3   0  35.0"
      ],
      "text/html": [
       "<div>\n",
       "<style scoped>\n",
       "    .dataframe tbody tr th:only-of-type {\n",
       "        vertical-align: middle;\n",
       "    }\n",
       "\n",
       "    .dataframe tbody tr th {\n",
       "        vertical-align: top;\n",
       "    }\n",
       "\n",
       "    .dataframe thead th {\n",
       "        text-align: right;\n",
       "    }\n",
       "</style>\n",
       "<table border=\"1\" class=\"dataframe\">\n",
       "  <thead>\n",
       "    <tr style=\"text-align: right;\">\n",
       "      <th></th>\n",
       "      <th>survived</th>\n",
       "      <th>pclass</th>\n",
       "      <th>sex</th>\n",
       "      <th>age</th>\n",
       "    </tr>\n",
       "  </thead>\n",
       "  <tbody>\n",
       "    <tr>\n",
       "      <th>0</th>\n",
       "      <td>0</td>\n",
       "      <td>3</td>\n",
       "      <td>0</td>\n",
       "      <td>22.0</td>\n",
       "    </tr>\n",
       "    <tr>\n",
       "      <th>1</th>\n",
       "      <td>1</td>\n",
       "      <td>1</td>\n",
       "      <td>1</td>\n",
       "      <td>38.0</td>\n",
       "    </tr>\n",
       "    <tr>\n",
       "      <th>2</th>\n",
       "      <td>1</td>\n",
       "      <td>3</td>\n",
       "      <td>1</td>\n",
       "      <td>26.0</td>\n",
       "    </tr>\n",
       "    <tr>\n",
       "      <th>3</th>\n",
       "      <td>1</td>\n",
       "      <td>1</td>\n",
       "      <td>1</td>\n",
       "      <td>35.0</td>\n",
       "    </tr>\n",
       "    <tr>\n",
       "      <th>4</th>\n",
       "      <td>0</td>\n",
       "      <td>3</td>\n",
       "      <td>0</td>\n",
       "      <td>35.0</td>\n",
       "    </tr>\n",
       "  </tbody>\n",
       "</table>\n",
       "</div>"
      ]
     },
     "execution_count": 135,
     "metadata": {},
     "output_type": "execute_result"
    }
   ],
   "execution_count": 135
  },
  {
   "metadata": {
    "ExecuteTime": {
     "end_time": "2025-03-25T23:49:40.662782Z",
     "start_time": "2025-03-25T23:49:40.649775Z"
    }
   },
   "cell_type": "code",
   "source": [
    "# initialisation du model\n",
    "model = KNeighborsClassifier(n_neighbors=3)\n",
    "\n",
    "# variable cible\n",
    "y = titanic['survived']\n",
    "# les features\n",
    "X = titanic.drop(['survived'], axis=1)\n",
    "\n",
    "# entrainement du model\n",
    "model.fit(X, y)\n",
    "# affichage du score\n",
    "print('SCORE', model.score(X, y))"
   ],
   "id": "d7e01edd2f16c807",
   "outputs": [
    {
     "name": "stdout",
     "output_type": "stream",
     "text": [
      "SCORE 0.8725490196078431\n"
     ]
    }
   ],
   "execution_count": 136
  },
  {
   "metadata": {
    "ExecuteTime": {
     "end_time": "2025-03-25T23:49:40.738465Z",
     "start_time": "2025-03-25T23:49:40.735114Z"
    }
   },
   "cell_type": "code",
   "source": [
    "# sauvegarde du model\n",
    "joblib.dump(model, 'models/titanic_case_study.joblib')"
   ],
   "id": "8ba77660ab80e105",
   "outputs": [
    {
     "data": {
      "text/plain": [
       "['models/titanic_case_study.joblib']"
      ]
     },
     "execution_count": 137,
     "metadata": {},
     "output_type": "execute_result"
    }
   ],
   "execution_count": 137
  },
  {
   "metadata": {
    "ExecuteTime": {
     "end_time": "2025-03-25T23:49:40.756795Z",
     "start_time": "2025-03-25T23:49:40.754486Z"
    }
   },
   "cell_type": "code",
   "source": [
    "def survie(model, pclass=3, sex=0, age=26):\n",
    "    x = pd.DataFrame([[pclass, sex, age]], columns=X.columns)\n",
    "    prediction = model.predict(x)\n",
    "    probability = model.predict_proba(x)\n",
    "    if prediction[0] == 1:\n",
    "        print('Survived')\n",
    "        print('With', probability[0][0]*100, '% of chance of surviving.')\n",
    "    else:\n",
    "        print('Not Survived')\n",
    "        print('With', probability[0][1]*100, '% of chance of not surviving.')"
   ],
   "id": "e43da89be9717d6e",
   "outputs": [],
   "execution_count": 138
  },
  {
   "metadata": {
    "ExecuteTime": {
     "end_time": "2025-03-25T23:49:40.796391Z",
     "start_time": "2025-03-25T23:49:40.793021Z"
    }
   },
   "cell_type": "code",
   "source": [
    "# test 1\n",
    "survie(model)"
   ],
   "id": "42099421a78c9694",
   "outputs": [
    {
     "name": "stdout",
     "output_type": "stream",
     "text": [
      "Not Survived\n",
      "With 0.0 % of chance of not surviving.\n"
     ]
    }
   ],
   "execution_count": 139
  },
  {
   "metadata": {
    "ExecuteTime": {
     "end_time": "2025-03-25T23:49:40.812016Z",
     "start_time": "2025-03-25T23:49:40.808632Z"
    }
   },
   "cell_type": "code",
   "source": [
    "# test 2\n",
    "survie(model, 1, 1, 50)"
   ],
   "id": "d62d895b87ec07ba",
   "outputs": [
    {
     "name": "stdout",
     "output_type": "stream",
     "text": [
      "Survived\n",
      "With 33.33333333333333 % of chance of surviving.\n"
     ]
    }
   ],
   "execution_count": 140
  },
  {
   "metadata": {
    "ExecuteTime": {
     "end_time": "2025-03-25T23:49:40.821397Z",
     "start_time": "2025-03-25T23:49:40.820171Z"
    }
   },
   "cell_type": "code",
   "source": "",
   "id": "5e2e4a332d05c3c8",
   "outputs": [],
   "execution_count": null
  }
 ],
 "metadata": {
  "kernelspec": {
   "display_name": "Python 3",
   "language": "python",
   "name": "python3"
  },
  "language_info": {
   "codemirror_mode": {
    "name": "ipython",
    "version": 2
   },
   "file_extension": ".py",
   "mimetype": "text/x-python",
   "name": "python",
   "nbconvert_exporter": "python",
   "pygments_lexer": "ipython2",
   "version": "2.7.6"
  }
 },
 "nbformat": 4,
 "nbformat_minor": 5
}
