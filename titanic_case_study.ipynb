{
 "cells": [
  {
   "cell_type": "code",
   "execution_count": 1,
   "id": "initial_id",
   "metadata": {
    "ExecuteTime": {
     "end_time": "2025-03-25T23:49:40.612694Z",
     "start_time": "2025-03-25T23:49:40.609923Z"
    },
    "collapsed": true
   },
   "outputs": [],
   "source": [
    "import pandas as pd\n",
    "from sklearn.neighbors import KNeighborsClassifier\n",
    "import joblib"
   ]
  },
  {
   "cell_type": "code",
   "execution_count": 2,
   "id": "b3a0a72388709bee",
   "metadata": {
    "ExecuteTime": {
     "end_time": "2025-03-25T23:49:40.631064Z",
     "start_time": "2025-03-25T23:49:40.623560Z"
    }
   },
   "outputs": [
    {
     "name": "stderr",
     "output_type": "stream",
     "text": [
      "/var/folders/q7/rvw94sbd0yv8ft4056r7p5jr0000gn/T/ipykernel_75836/55289235.py:5: FutureWarning: Downcasting behavior in `replace` is deprecated and will be removed in a future version. To retain the old behavior, explicitly call `result.infer_objects(copy=False)`. To opt-in to the future behavior, set `pd.set_option('future.no_silent_downcasting', True)`\n",
      "  titanic['sex'] = titanic['sex'].replace(['male', 'female'], [0, 1])\n"
     ]
    },
    {
     "data": {
      "application/vnd.microsoft.datawrangler.viewer.v0+json": {
       "columns": [
        {
         "name": "index",
         "rawType": "int64",
         "type": "integer"
        },
        {
         "name": "survived",
         "rawType": "int64",
         "type": "integer"
        },
        {
         "name": "pclass",
         "rawType": "int64",
         "type": "integer"
        },
        {
         "name": "sex",
         "rawType": "int64",
         "type": "integer"
        },
        {
         "name": "age",
         "rawType": "float64",
         "type": "float"
        }
       ],
       "conversionMethod": "pd.DataFrame",
       "ref": "e4fce9a6-1ffe-4313-ab03-06cc153f9ec8",
       "rows": [
        [
         "0",
         "0",
         "3",
         "0",
         "22.0"
        ],
        [
         "1",
         "1",
         "1",
         "1",
         "38.0"
        ],
        [
         "2",
         "1",
         "3",
         "1",
         "26.0"
        ],
        [
         "3",
         "1",
         "1",
         "1",
         "35.0"
        ],
        [
         "4",
         "0",
         "3",
         "0",
         "35.0"
        ]
       ],
       "shape": {
        "columns": 4,
        "rows": 5
       }
      },
      "text/html": [
       "<div>\n",
       "<style scoped>\n",
       "    .dataframe tbody tr th:only-of-type {\n",
       "        vertical-align: middle;\n",
       "    }\n",
       "\n",
       "    .dataframe tbody tr th {\n",
       "        vertical-align: top;\n",
       "    }\n",
       "\n",
       "    .dataframe thead th {\n",
       "        text-align: right;\n",
       "    }\n",
       "</style>\n",
       "<table border=\"1\" class=\"dataframe\">\n",
       "  <thead>\n",
       "    <tr style=\"text-align: right;\">\n",
       "      <th></th>\n",
       "      <th>survived</th>\n",
       "      <th>pclass</th>\n",
       "      <th>sex</th>\n",
       "      <th>age</th>\n",
       "    </tr>\n",
       "  </thead>\n",
       "  <tbody>\n",
       "    <tr>\n",
       "      <th>0</th>\n",
       "      <td>0</td>\n",
       "      <td>3</td>\n",
       "      <td>0</td>\n",
       "      <td>22.0</td>\n",
       "    </tr>\n",
       "    <tr>\n",
       "      <th>1</th>\n",
       "      <td>1</td>\n",
       "      <td>1</td>\n",
       "      <td>1</td>\n",
       "      <td>38.0</td>\n",
       "    </tr>\n",
       "    <tr>\n",
       "      <th>2</th>\n",
       "      <td>1</td>\n",
       "      <td>3</td>\n",
       "      <td>1</td>\n",
       "      <td>26.0</td>\n",
       "    </tr>\n",
       "    <tr>\n",
       "      <th>3</th>\n",
       "      <td>1</td>\n",
       "      <td>1</td>\n",
       "      <td>1</td>\n",
       "      <td>35.0</td>\n",
       "    </tr>\n",
       "    <tr>\n",
       "      <th>4</th>\n",
       "      <td>0</td>\n",
       "      <td>3</td>\n",
       "      <td>0</td>\n",
       "      <td>35.0</td>\n",
       "    </tr>\n",
       "  </tbody>\n",
       "</table>\n",
       "</div>"
      ],
      "text/plain": [
       "   survived  pclass  sex   age\n",
       "0         0       3    0  22.0\n",
       "1         1       1    1  38.0\n",
       "2         1       3    1  26.0\n",
       "3         1       1    1  35.0\n",
       "4         0       3    0  35.0"
      ]
     },
     "execution_count": 2,
     "metadata": {},
     "output_type": "execute_result"
    }
   ],
   "source": [
    "titanic = pd.read_csv('data/Titanic-Dataset.csv')\n",
    "titanic.columns = titanic.columns.str.lower()\n",
    "titanic = titanic[['survived', 'pclass', 'sex', 'age']]\n",
    "titanic.dropna(axis=0, inplace=True)\n",
    "titanic['sex'] = titanic['sex'].replace(['male', 'female'], [0, 1])\n",
    "titanic.head()"
   ]
  },
  {
   "cell_type": "code",
   "execution_count": 3,
   "id": "d7e01edd2f16c807",
   "metadata": {
    "ExecuteTime": {
     "end_time": "2025-03-25T23:49:40.662782Z",
     "start_time": "2025-03-25T23:49:40.649775Z"
    }
   },
   "outputs": [
    {
     "name": "stdout",
     "output_type": "stream",
     "text": [
      "SCORE 0.8725490196078431\n"
     ]
    }
   ],
   "source": [
    "# initialisation du model\n",
    "model = KNeighborsClassifier(n_neighbors=3)\n",
    "\n",
    "# variable cible\n",
    "y = titanic['survived']\n",
    "# les features\n",
    "X = titanic.drop(['survived'], axis=1)\n",
    "\n",
    "# entrainement du model\n",
    "model.fit(X, y)\n",
    "# affichage du score\n",
    "print('SCORE', model.score(X, y))"
   ]
  },
  {
   "cell_type": "code",
   "execution_count": 4,
   "id": "8ba77660ab80e105",
   "metadata": {
    "ExecuteTime": {
     "end_time": "2025-03-25T23:49:40.738465Z",
     "start_time": "2025-03-25T23:49:40.735114Z"
    }
   },
   "outputs": [
    {
     "data": {
      "text/plain": [
       "['models/titanic_case_study.joblib']"
      ]
     },
     "execution_count": 4,
     "metadata": {},
     "output_type": "execute_result"
    }
   ],
   "source": [
    "# sauvegarde du model\n",
    "joblib.dump(model, 'models/titanic_case_study.joblib')"
   ]
  },
  {
   "cell_type": "code",
   "execution_count": 5,
   "id": "e43da89be9717d6e",
   "metadata": {
    "ExecuteTime": {
     "end_time": "2025-03-25T23:49:40.756795Z",
     "start_time": "2025-03-25T23:49:40.754486Z"
    }
   },
   "outputs": [],
   "source": [
    "def survie(model, pclass=3, sex=0, age=26):\n",
    "    x = pd.DataFrame([[pclass, sex, age]], columns=X.columns)\n",
    "    prediction = model.predict(x)\n",
    "    probability = model.predict_proba(x)\n",
    "    if prediction[0] == 1:\n",
    "        print('Survived')\n",
    "        print('With', probability[0][0]*100, '% of chance of surviving.')\n",
    "    else:\n",
    "        print('Not Survived')\n",
    "        print('With', probability[0][1]*100, '% of chance of not surviving.')"
   ]
  },
  {
   "cell_type": "code",
   "execution_count": 6,
   "id": "42099421a78c9694",
   "metadata": {
    "ExecuteTime": {
     "end_time": "2025-03-25T23:49:40.796391Z",
     "start_time": "2025-03-25T23:49:40.793021Z"
    }
   },
   "outputs": [
    {
     "name": "stdout",
     "output_type": "stream",
     "text": [
      "Not Survived\n",
      "With 0.0 % of chance of not surviving.\n"
     ]
    }
   ],
   "source": [
    "# test 1\n",
    "survie(model)"
   ]
  },
  {
   "cell_type": "code",
   "execution_count": 7,
   "id": "d62d895b87ec07ba",
   "metadata": {
    "ExecuteTime": {
     "end_time": "2025-03-25T23:49:40.812016Z",
     "start_time": "2025-03-25T23:49:40.808632Z"
    }
   },
   "outputs": [
    {
     "name": "stdout",
     "output_type": "stream",
     "text": [
      "Survived\n",
      "With 33.33333333333333 % of chance of surviving.\n"
     ]
    }
   ],
   "source": [
    "# test 2\n",
    "survie(model, 1, 1, 50)"
   ]
  },
  {
   "cell_type": "code",
   "execution_count": null,
   "id": "5e2e4a332d05c3c8",
   "metadata": {
    "ExecuteTime": {
     "end_time": "2025-03-25T23:49:40.821397Z",
     "start_time": "2025-03-25T23:49:40.820171Z"
    }
   },
   "outputs": [],
   "source": []
  }
 ],
 "metadata": {
  "kernelspec": {
   "display_name": ".venv",
   "language": "python",
   "name": "python3"
  },
  "language_info": {
   "codemirror_mode": {
    "name": "ipython",
    "version": 3
   },
   "file_extension": ".py",
   "mimetype": "text/x-python",
   "name": "python",
   "nbconvert_exporter": "python",
   "pygments_lexer": "ipython3",
   "version": "3.12.4"
  }
 },
 "nbformat": 4,
 "nbformat_minor": 5
}
